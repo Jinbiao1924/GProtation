{
 "metadata": {
  "name": "",
  "signature": "sha256:e59c6e0bad64c986da5ab343ed646ec3a938ccadabc3edd957cae5aef9eb528a"
 },
 "nbformat": 3,
 "nbformat_minor": 0,
 "worksheets": [
  {
   "cells": [
    {
     "cell_type": "code",
     "collapsed": false,
     "input": [
      "import numpy as np\n",
      "import matplotlib.pyplot as plt\n",
      "%matplotlib inline\n",
      "import GPr\n",
      "from tools import bin_data, simple_acf\n",
      "import triangle\n",
      "from Kepler_ACF import corr_run"
     ],
     "language": "python",
     "metadata": {},
     "outputs": [],
     "prompt_number": 1
    },
    {
     "cell_type": "markdown",
     "metadata": {},
     "source": [
      "Load example data set"
     ]
    },
    {
     "cell_type": "code",
     "collapsed": false,
     "input": [
      "id = \"0\"\n",
      "x, y = np.genfromtxt(\"simulations/%s.txt\" % id).T\n",
      "yerr = np.ones_like(y) * 1e-10  # make up some uncertainties\n",
      "plt.plot(x, y, \"k.\")\n",
      "plt.xlim(0, 10)"
     ],
     "language": "python",
     "metadata": {},
     "outputs": [
      {
       "metadata": {},
       "output_type": "pyout",
       "prompt_number": 4,
       "text": [
        "(0, 10)"
       ]
      },
      {
       "metadata": {},
       "output_type": "display_data",
       "png": "[encoded data removed]",
       "text": [
        "<matplotlib.figure.Figure at 0x10be54750>"
       ]
      }
     ],
     "prompt_number": 4
    },
    {
     "cell_type": "markdown",
     "metadata": {},
     "source": [
      "Measure the rotation period using the ACF method in order to get a rough guess"
     ]
    },
    {
     "cell_type": "code",
     "collapsed": false,
     "input": [
      "kepler_cadence = .02043365\n",
      "p_init, acf, lags = simple_acf(x, y, kepler_cadence)\n",
      "print p_init\n",
      "plt.plot(lags, acf)\n",
      "plt.axvline(p_init, color=\"r\")"
     ],
     "language": "python",
     "metadata": {},
     "outputs": [
      {
       "output_type": "stream",
       "stream": "stdout",
       "text": [
        "1.16471805\n"
       ]
      },
      {
       "metadata": {},
       "output_type": "pyout",
       "prompt_number": 5,
       "text": [
        "<matplotlib.lines.Line2D at 0x10e271ed0>"
       ]
      },
      {
       "metadata": {},
       "output_type": "display_data",
       "png": "[encoded data removed]",
       "text": [
        "<matplotlib.figure.Figure at 0x10e802110>"
       ]
      }
     ],
     "prompt_number": 5
    },
    {
     "cell_type": "markdown",
     "metadata": {},
     "source": [
      "Truncate and bin data for speed"
     ]
    },
    {
     "cell_type": "code",
     "collapsed": false,
     "input": [
      "npts = int(p_init / 10. * 48)  # 10 points per period\n",
      "xb, yb, yerrb = bin_data(x, y, yerr, npts)\n",
      "cutoff = 100\n",
      "m = xb < cutoff\n",
      "xb, yb, yerrb = xb[m], yb[m], yerrb[m]"
     ],
     "language": "python",
     "metadata": {},
     "outputs": [],
     "prompt_number": 6
    },
    {
     "cell_type": "markdown",
     "metadata": {},
     "source": [
      "Run the MCMC"
     ]
    },
    {
     "cell_type": "code",
     "collapsed": false,
     "input": [
      "gs = GPr.GProtation(xb, yb, yerrb)\n",
      "theta_init = np.log([1., 1., 1., 1., p_init])\n",
      "sampler = gs.MCMC(id, theta_init);"
     ],
     "language": "python",
     "metadata": {},
     "outputs": [
      {
       "ename": "AttributeError",
       "evalue": "'GProtation' object has no attribute 'MCMC'",
       "output_type": "pyerr",
       "traceback": [
        "\u001b[0;31m---------------------------------------------------------------------------\u001b[0m\n\u001b[0;31mAttributeError\u001b[0m                            Traceback (most recent call last)",
        "\u001b[0;32m<ipython-input-7-d30a5548c271>\u001b[0m in \u001b[0;36m<module>\u001b[0;34m()\u001b[0m\n\u001b[1;32m      1\u001b[0m \u001b[0mgs\u001b[0m \u001b[0;34m=\u001b[0m \u001b[0mGPr\u001b[0m\u001b[0;34m.\u001b[0m\u001b[0mGProtation\u001b[0m\u001b[0;34m(\u001b[0m\u001b[0mxb\u001b[0m\u001b[0;34m,\u001b[0m \u001b[0myb\u001b[0m\u001b[0;34m,\u001b[0m \u001b[0myerrb\u001b[0m\u001b[0;34m)\u001b[0m\u001b[0;34m\u001b[0m\u001b[0m\n\u001b[1;32m      2\u001b[0m \u001b[0mtheta_init\u001b[0m \u001b[0;34m=\u001b[0m \u001b[0mnp\u001b[0m\u001b[0;34m.\u001b[0m\u001b[0mlog\u001b[0m\u001b[0;34m(\u001b[0m\u001b[0;34m[\u001b[0m\u001b[0;36m1.\u001b[0m\u001b[0;34m,\u001b[0m \u001b[0;36m1.\u001b[0m\u001b[0;34m,\u001b[0m \u001b[0;36m1.\u001b[0m\u001b[0;34m,\u001b[0m \u001b[0;36m1.\u001b[0m\u001b[0;34m,\u001b[0m \u001b[0mp_init\u001b[0m\u001b[0;34m]\u001b[0m\u001b[0;34m)\u001b[0m\u001b[0;34m\u001b[0m\u001b[0m\n\u001b[0;32m----> 3\u001b[0;31m \u001b[0msampler\u001b[0m \u001b[0;34m=\u001b[0m \u001b[0mgs\u001b[0m\u001b[0;34m.\u001b[0m\u001b[0mMCMC\u001b[0m\u001b[0;34m(\u001b[0m\u001b[0mid\u001b[0m\u001b[0;34m,\u001b[0m \u001b[0mtheta_init\u001b[0m\u001b[0;34m)\u001b[0m\u001b[0;34m;\u001b[0m\u001b[0;34m\u001b[0m\u001b[0m\n\u001b[0m",
        "\u001b[0;31mAttributeError\u001b[0m: 'GProtation' object has no attribute 'MCMC'"
       ]
      }
     ],
     "prompt_number": 7
    },
    {
     "cell_type": "markdown",
     "metadata": {},
     "source": [
      "Make triangle plot"
     ]
    },
    {
     "cell_type": "code",
     "collapsed": false,
     "input": [
      "nwalkers, nsteps, ndims = np.shape(sampler)\n",
      "flat = np.reshape(sampler, (nwalkers * nsteps, ndims))\n",
      "mcmc_result = map(lambda v: (v[1], v[2]-v[1], v[1]-v[0]), zip(*np.percentile(flat, [16, 50, 84], axis=0)))\n",
      "mcmc_result = np.array([i[0] for i in mcmc_result])\n",
      "print(\"\\n\", np.exp(np.array(mcmc_result[-1])), \"period (days)\", \"\\n\")\n",
      "\n",
      "fig_labels = [\"A\", \"l2\", \"l1\", \"s\", \"P\"]\n",
      "fig = triangle.corner(flat, labels=fig_labels)"
     ],
     "language": "python",
     "metadata": {},
     "outputs": []
    },
    {
     "cell_type": "markdown",
     "metadata": {},
     "source": [
      "Plot the MAP prediction"
     ]
    },
    {
     "cell_type": "code",
     "collapsed": false,
     "input": [
      "theta = np.exp(np.array(mcmc_result))\n",
      "k = theta[0] * ExpSquaredKernel(theta[1]) * ExpSine2Kernel(theta[2], theta[4])\n",
      "gp = george.GP(k)\n",
      "gp.compute(x, yerr)\n",
      "xs = np.linspace(x[0], x[-1], 1000)\n",
      "mu, cov = gp.predict(y, xs)\n",
      "\n",
      "plt.errorbar(x, y, yerr=yerr, **reb)\n",
      "plt.xlabel(\"Time (days)\")\n",
      "plt.ylabel(\"Normalised Flux\")\n",
      "plt.plot(xs, mu)"
     ],
     "language": "python",
     "metadata": {},
     "outputs": []
    }
   ],
   "metadata": {}
  }
 ]
}