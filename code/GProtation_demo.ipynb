{
 "metadata": {
  "name": "",
  "signature": "sha256:2e5dc847296ea646395cbe6069a1772db5cc51a2bc066f048e7362a91218d6fc"
 },
 "nbformat": 3,
 "nbformat_minor": 0,
 "worksheets": [
  {
   "cells": [
    {
     "cell_type": "code",
     "collapsed": false,
     "input": [
      "import numpy as np\n",
      "import matplotlib.pyplot as plt\n",
      "%matplotlib inline\n",
      "import GPr\n",
      "from tools import bin_data, simple_acf\n",
      "import triangle\n",
      "from Kepler_ACF import corr_run"
     ],
     "language": "python",
     "metadata": {},
     "outputs": [],
     "prompt_number": 1
    },
    {
     "cell_type": "markdown",
     "metadata": {},
     "source": [
      "Load example data set"
     ]
    },
    {
     "cell_type": "code",
     "collapsed": false,
     "input": [
      "id = \"0\"\n",
      "x, y = np.genfromtxt(\"simulations/%s.txt\" % id).T\n",
      "yerr = np.ones_like(y) * 1e-10  # make up some uncertainties\n",
      "plt.plot(x, y, \"k.\")\n",
      "plt.xlim(0, 10)"
     ],
     "language": "python",
     "metadata": {},
     "outputs": [
      {
       "metadata": {},
       "output_type": "pyout",
       "prompt_number": 2,
       "text": [
        "(0, 10)"
       ]
      },
      {
       "metadata": {},
       "output_type": "display_data",
       "png": "[encoded data removed]",
       "text": [
        "<matplotlib.figure.Figure at 0x10bdf90d0>"
       ]
      }
     ],
     "prompt_number": 2
    },
    {
     "cell_type": "markdown",
     "metadata": {},
     "source": [
      "Measure the rotation period using the ACF method in order to get a rough guess"
     ]
    },
    {
     "cell_type": "code",
     "collapsed": false,
     "input": [
      "kepler_cadence = .02043365\n",
      "p_init, acf, lags = simple_acf(x, y, kepler_cadence)\n",
      "print p_init\n",
      "plt.xlim(0, 10)\n",
      "plt.axvline(p_init, color=\"r\")\n",
      "plt.plot(lags, acf)"
     ],
     "language": "python",
     "metadata": {},
     "outputs": [
      {
       "output_type": "stream",
       "stream": "stdout",
       "text": [
        "1.16471805\n"
       ]
      },
      {
       "metadata": {},
       "output_type": "pyout",
       "prompt_number": 3,
       "text": [
        "[<matplotlib.lines.Line2D at 0x10cd73750>]"
       ]
      },
      {
       "metadata": {},
       "output_type": "display_data",
       "png": "[encoded data removed]",
       "text": [
        "<matplotlib.figure.Figure at 0x10ca73510>"
       ]
      }
     ],
     "prompt_number": 3
    },
    {
     "cell_type": "markdown",
     "metadata": {},
     "source": [
      "Truncate and bin data for speed"
     ]
    },
    {
     "cell_type": "code",
     "collapsed": false,
     "input": [
      "npts = int(p_init / 10. * 48)  # 10 points per period\n",
      "xb, yb, yerrb = bin_data(x, y, yerr, npts)\n",
      "cutoff = 100\n",
      "m = xb < cutoff\n",
      "xb, yb, yerrb = xb[m], yb[m], yerrb[m]"
     ],
     "language": "python",
     "metadata": {},
     "outputs": [],
     "prompt_number": 4
    },
    {
     "cell_type": "markdown",
     "metadata": {},
     "source": [
      "Run the MCMC"
     ]
    },
    {
     "cell_type": "code",
     "collapsed": false,
     "input": [
      "gpr = GPr.GProtation(xb, yb, yerrb)\n",
      "theta_init = [-5., 6., 1.2, -16., np.log(p_init)]  # initial parameter values\n",
      "plims = np.log([p_init*.7, p_init*1.5])  # use .7 and 1.5 times p_init as bounds on the log-uniform prior.\n",
      "burnin, nsteps, nwalkers = 1000, 3000, 32  # number of steps for burn-in, full run and the number of walkers.\n",
      "sampler = gpr.MCMC(theta_init, plims, burnin, nsteps, nwalkers);"
     ],
     "language": "python",
     "metadata": {},
     "outputs": []
    },
    {
     "cell_type": "markdown",
     "metadata": {},
     "source": [
      "Make triangle plot"
     ]
    },
    {
     "cell_type": "code",
     "collapsed": false,
     "input": [
      "ndims = np.shape(sampler)[-1]\n",
      "flat = np.reshape(sampler, (nwalkers * nsteps, ndims))\n",
      "mcmc_result = map(lambda v: (v[1], v[2]-v[1], v[1]-v[0]), zip(*np.percentile(flat, [16, 50, 84], axis=0)))\n",
      "print mcmc_result\n",
      "mcmc_result = np.array([i[0] for i in mcmc_result])\n",
      "print mcmc_result\n",
      "print \"period (days) = \", np.exp(np.array(mcmc_result[-1]))\n",
      "\n",
      "#fig_labels = [\"A\", \"l2\", \"l1\", \"s\", \"P\"]\n",
      "#fig = triangle.corner(flat, labels=fig_labels)"
     ],
     "language": "python",
     "metadata": {},
     "outputs": []
    },
    {
     "cell_type": "markdown",
     "metadata": {},
     "source": [
      "Plot the prediction from the posterior median values "
     ]
    },
    {
     "cell_type": "code",
     "collapsed": false,
     "input": [
      "theta = np.exp(np.array(mcmc_result))\n",
      "k = theta[0] * ExpSquaredKernel(theta[1]) * ExpSine2Kernel(theta[2], theta[4])\n",
      "gp = george.GP(k)\n",
      "gp.compute(x, yerr)\n",
      "xs = np.linspace(x[0], x[-1], 1000)\n",
      "mu, cov = gp.predict(y, xs)\n",
      "\n",
      "plt.errorbar(x, y, yerr=yerr, **reb)\n",
      "plt.xlabel(\"Time (days)\")\n",
      "plt.ylabel(\"Normalised Flux\")\n",
      "plt.plot(xs, mu)"
     ],
     "language": "python",
     "metadata": {},
     "outputs": []
    }
   ],
   "metadata": {}
  }
 ]
}